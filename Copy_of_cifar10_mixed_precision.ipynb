{
 "cells": [
  {
   "cell_type": "code",
   "execution_count": 1,
   "metadata": {
    "colab": {},
    "colab_type": "code",
    "id": "tuOe1ymfHZPu"
   },
   "outputs": [],
   "source": [
    "# Copyright 2019 NVIDIA Corporation. All Rights Reserved.\n",
    "#\n",
    "# Licensed under the Apache License, Version 2.0 (the \"License\");\n",
    "# you may not use this file except in compliance with the License.\n",
    "# You may obtain a copy of the License at\n",
    "#\n",
    "#     http://www.apache.org/licenses/LICENSE-2.0\n",
    "#\n",
    "# Unless required by applicable law or agreed to in writing, software\n",
    "# distributed under the License is distributed on an \"AS IS\" BASIS,\n",
    "# WITHOUT WARRANTIES OR CONDITIONS OF ANY KIND, either express or implied.\n",
    "# See the License for the specific language governing permissions and\n",
    "# limitations under the License.\n",
    "# =============================================================================="
   ]
  },
  {
   "cell_type": "markdown",
   "metadata": {
    "colab_type": "text",
    "id": "MfBg1C5NB3X0"
   },
   "source": [
    "<img src=\"https://upload.wikimedia.org/wikipedia/en/thumb/6/6d/Nvidia_image_logo.svg/200px-Nvidia_image_logo.svg.png\" width=\"90px\" align=\"right\" style=\"margin-right: 0px;\">\n",
    "\n",
    "# Mixed Precision Training of CNN"
   ]
  },
  {
   "cell_type": "markdown",
   "metadata": {
    "colab_type": "text",
    "id": "xHxb-dlhMIzW"
   },
   "source": [
    "## Overview\n",
    "\n",
    "In this example, we will speed-up the training of a simple CNN with mixed precision to perform image classification on the CIFAR10 dataset.\n",
    "\n",
    "By using mixed precision, we can reduce the training time without a significant impact on classification accuracy. For example, using the NVIDIA Tesla T4 GPU on Google Colab, we can reduce the training time (using the same model and batch size) over 10 epochs from about 600 seconds (FP32) to about 300 seconds with mixed precision, without sacrificing classification accuracy.\n",
    "\n",
    "**How mixed precision works**\n",
    "\n",
    "**Mixed precision** is the use of both float16 and float32 data types when training a model.\n",
    "\n",
    "Performing arithmetic operations in float16 takes advantage of the performance gains of using specialized processing units such as the Tensor cores. Due to the smaller representable range of float16, performing the entire training with float16 data type can result in underflow of the gradients, leading to convergence or model quality issues.\n",
    "\n",
    "However, *performing only select arithmetic operations* in float16 results in performance gains when using compatible hardware accelerators, decreasing training time and reducing memory usage, typically without sacrificing model performance.\n",
    "\n",
    "To learn more about mixed precision and how it works:\n",
    "\n",
    "* [Overview of Automatic Mixed Precision for Deep Learning](https://developer.nvidia.com/automatic-mixed-precision)\n",
    "* [NVIDIA Mixed Precision Training Documentation](https://docs.nvidia.com/deeplearning/sdk/mixed-precision-training/index.html)\n",
    "* [NVIDIA Deep Learning Performance Guide](https://docs.nvidia.com/deeplearning/sdk/dl-performance-guide/index.html)\n",
    "* [Information about NVIDIA Tensor Cores](https://developer.nvidia.com/tensor-cores)\n",
    "* [Post on TensorFlow blog explaining Automatic Mixed Precision](https://medium.com/tensorflow/automatic-mixed-precision-in-tensorflow-for-faster-ai-training-on-nvidia-gpus-6033234b2540)\n",
    "\n",
    "The method presented in this notebook is the API used in TensorFlow 1.14 and newer."
   ]
  },
  {
   "cell_type": "markdown",
   "metadata": {
    "colab_type": "text",
    "id": "MUXex9ctTuDB"
   },
   "source": [
    "## Setup and Requirements"
   ]
  },
  {
   "cell_type": "markdown",
   "metadata": {
    "colab_type": "text",
    "id": "0yh5tPwanSjf"
   },
   "source": [
    "**Hardware requirements**\n",
    "\n",
    "* NVIDIA Tensor Core GPU (Compute Capability >= `7.0`)\n",
    "\n",
    "**Software requirements**\n",
    "\n",
    "* TensorFlow version >= `1.14.0-rc0`\n",
    "\n",
    "The following section will import the necessary libraries and check if these requirements are met."
   ]
  },
  {
   "cell_type": "code",
   "execution_count": 2,
   "metadata": {
    "colab": {},
    "colab_type": "code",
    "id": "IqR2PQG4ZaZ0"
   },
   "outputs": [],
   "source": [
    "import time\n",
    "import numpy as np\n",
    "\n",
    "import tensorflow.compat.v2 as tf\n",
    "tf.enable_v2_behavior()\n",
    "\n",
    "from tensorflow.keras.models import Sequential\n",
    "from tensorflow.keras.layers import *"
   ]
  },
  {
   "cell_type": "code",
   "execution_count": 3,
   "metadata": {
    "colab": {
     "base_uri": "https://localhost:8080/",
     "height": 53
    },
    "colab_type": "code",
    "id": "SyOV7ojinSjf",
    "outputId": "92f95198-c4d5-4eff-a855-b4af36f2a392"
   },
   "outputs": [
    {
     "name": "stdout",
     "output_type": "stream",
     "text": [
      "TensorFlow version is 1.14.0\n",
      "Tensor Core GPU Present: True\n"
     ]
    }
   ],
   "source": [
    "from tensorflow.python.client import device_lib\n",
    "\n",
    "def check_tensor_core_gpu_present():\n",
    "    local_device_protos = device_lib.list_local_devices()\n",
    "    for line in local_device_protos:\n",
    "        if \"compute capability\" in str(line):\n",
    "            compute_capability = float(line.physical_device_desc.split(\"compute capability: \")[-1])\n",
    "            if compute_capability>=7.0:\n",
    "                return True\n",
    "\n",
    "print(\"TensorFlow version is\", tf.__version__)\n",
    "\n",
    "try:\n",
    "    # check and assert TensorFlow >= 1.14\n",
    "    tf_version_list = tf.__version__.split(\".\")\n",
    "    if int(tf_version_list[0]) < 2:\n",
    "        assert int(tf_version_list[1]) >= 14\n",
    "except:\n",
    "    print(\"TensorFlow 1.14.0 or newer is required.\")\n",
    "    \n",
    "print(\"Tensor Core GPU Present:\", check_tensor_core_gpu_present())\n",
    "if check_tensor_core_gpu_present():\n",
    "    pass\n",
    "else:\n",
    "    !nvidia-smi\n",
    "    assert check_tensor_core_gpu_present() == True"
   ]
  },
  {
   "cell_type": "markdown",
   "metadata": {
    "colab_type": "text",
    "id": "QKp40qS-DGEZ"
   },
   "source": [
    "## Import the Dataset\n",
    "\n",
    "Import the CIFAR10 image dataset from `tf.keras.datasets`"
   ]
  },
  {
   "cell_type": "code",
   "execution_count": 4,
   "metadata": {
    "colab": {},
    "colab_type": "code",
    "id": "GQq1V2EmnSjj"
   },
   "outputs": [
    {
     "name": "stdout",
     "output_type": "stream",
     "text": [
      "Downloading data from https://www.cs.toronto.edu/~kriz/cifar-10-python.tar.gz\n",
      "170500096/170498071 [==============================] - 4s 0us/step\n"
     ]
    }
   ],
   "source": [
    "# The data, split between train and test sets\n",
    "\n",
    "(x_train, y_train), (x_test, y_test) = tf.keras.datasets.cifar10.load_data()\n",
    "\n",
    "num_classes = np.max(y_train) + 1\n",
    "\n",
    "# Convert class vectors to binary class matrices\n",
    "\n",
    "y_train = tf.keras.utils.to_categorical(y_train, num_classes)\n",
    "y_test = tf.keras.utils.to_categorical(y_test, num_classes)"
   ]
  },
  {
   "cell_type": "markdown",
   "metadata": {
    "colab_type": "text",
    "id": "EPSlI16QnSjl"
   },
   "source": [
    "Preprocess the images by scaling the values from the range `0 ~ 255` to the range `0 ~ 1`"
   ]
  },
  {
   "cell_type": "code",
   "execution_count": 5,
   "metadata": {
    "colab": {},
    "colab_type": "code",
    "id": "4W52Ac5-nSjl"
   },
   "outputs": [],
   "source": [
    "def normalize(ndarray):\n",
    "    ndarray = ndarray.astype(\"float32\")\n",
    "    ndarray = ndarray/255.0\n",
    "    return ndarray\n",
    "\n",
    "x_train = normalize(x_train)\n",
    "x_test = normalize(x_test)"
   ]
  },
  {
   "cell_type": "markdown",
   "metadata": {
    "colab_type": "text",
    "id": "0zTEfgJFnSjn"
   },
   "source": [
    "## Define the Model\n",
    "\n",
    "Define a reusable helper function to return a simple CNN"
   ]
  },
  {
   "cell_type": "code",
   "execution_count": 6,
   "metadata": {
    "colab": {},
    "colab_type": "code",
    "id": "edD6HTTmnSjo"
   },
   "outputs": [],
   "source": [
    "def create_model(num_classes=10):\n",
    "    \"\"\"\n",
    "    Returns a simple CNN suitable for classifiying images from CIFAR10\n",
    "    \"\"\"\n",
    "    # model parameters\n",
    "    act = \"relu\"\n",
    "    pad = \"same\"\n",
    "    ini = \"he_uniform\"\n",
    "    \n",
    "    model = tf.keras.models.Sequential([\n",
    "        Conv2D(128, (3, 3), activation=act, padding=pad, kernel_initializer=ini,\n",
    "               input_shape=(32,32,3)),\n",
    "        Conv2D(256, (3, 3), activation=act, padding=pad, kernel_initializer=ini),\n",
    "        MaxPooling2D(pool_size=(2,2)),\n",
    "        Conv2D(256, (3, 3), activation=act, padding=pad, kernel_initializer=ini),\n",
    "        Conv2D(256, (3, 3), activation=act, padding=pad, kernel_initializer=ini),\n",
    "        Conv2D(256, (3, 3), activation=act, padding=pad, kernel_initializer=ini),\n",
    "        Conv2D(256, (3, 3), activation=act, padding=pad, kernel_initializer=ini),\n",
    "        MaxPooling2D(pool_size=(2,2)),\n",
    "        Conv2D(256, (3, 3), activation=act, padding=pad, kernel_initializer=ini),\n",
    "        Conv2D(128, (3, 3), activation=act, padding=pad, kernel_initializer=ini),\n",
    "        MaxPooling2D(pool_size=(4,4)),\n",
    "        Flatten(),\n",
    "        BatchNormalization(),\n",
    "        Dense(512, activation='relu'),\n",
    "        Dropout(rate=0.2),\n",
    "        Dense(num_classes, activation=\"softmax\")\n",
    "    ])\n",
    "\n",
    "    return model"
   ]
  },
  {
   "cell_type": "code",
   "execution_count": 7,
   "metadata": {
    "colab": {
     "base_uri": "https://localhost:8080/",
     "height": 737
    },
    "colab_type": "code",
    "id": "VsZy8zzwjz1V",
    "outputId": "c1b39fc5-976e-4606-a3a5-993dcd49236f"
   },
   "outputs": [
    {
     "name": "stdout",
     "output_type": "stream",
     "text": [
      "Model: \"sequential\"\n",
      "_________________________________________________________________\n",
      "Layer (type)                 Output Shape              Param #   \n",
      "=================================================================\n",
      "conv2d (Conv2D)              (None, 32, 32, 128)       3584      \n",
      "_________________________________________________________________\n",
      "conv2d_1 (Conv2D)            (None, 32, 32, 256)       295168    \n",
      "_________________________________________________________________\n",
      "max_pooling2d (MaxPooling2D) (None, 16, 16, 256)       0         \n",
      "_________________________________________________________________\n",
      "conv2d_2 (Conv2D)            (None, 16, 16, 256)       590080    \n",
      "_________________________________________________________________\n",
      "conv2d_3 (Conv2D)            (None, 16, 16, 256)       590080    \n",
      "_________________________________________________________________\n",
      "conv2d_4 (Conv2D)            (None, 16, 16, 256)       590080    \n",
      "_________________________________________________________________\n",
      "conv2d_5 (Conv2D)            (None, 16, 16, 256)       590080    \n",
      "_________________________________________________________________\n",
      "max_pooling2d_1 (MaxPooling2 (None, 8, 8, 256)         0         \n",
      "_________________________________________________________________\n",
      "conv2d_6 (Conv2D)            (None, 8, 8, 256)         590080    \n",
      "_________________________________________________________________\n",
      "conv2d_7 (Conv2D)            (None, 8, 8, 128)         295040    \n",
      "_________________________________________________________________\n",
      "max_pooling2d_2 (MaxPooling2 (None, 2, 2, 128)         0         \n",
      "_________________________________________________________________\n",
      "flatten (Flatten)            (None, 512)               0         \n",
      "_________________________________________________________________\n",
      "batch_normalization (BatchNo (None, 512)               2048      \n",
      "_________________________________________________________________\n",
      "dense (Dense)                (None, 512)               262656    \n",
      "_________________________________________________________________\n",
      "dropout (Dropout)            (None, 512)               0         \n",
      "_________________________________________________________________\n",
      "dense_1 (Dense)              (None, 10)                5130      \n",
      "=================================================================\n",
      "Total params: 3,814,026\n",
      "Trainable params: 3,813,002\n",
      "Non-trainable params: 1,024\n",
      "_________________________________________________________________\n"
     ]
    }
   ],
   "source": [
    "model = create_model(num_classes)\n",
    "model.summary()"
   ]
  },
  {
   "cell_type": "markdown",
   "metadata": {
    "colab_type": "text",
    "id": "OB8kdGNTnSjr"
   },
   "source": [
    "## Training the Model\n",
    "\n",
    "Train and benchmark the same model trained with and without mixed precision"
   ]
  },
  {
   "cell_type": "code",
   "execution_count": 8,
   "metadata": {
    "colab": {},
    "colab_type": "code",
    "id": "vXHS_e8lnSjs"
   },
   "outputs": [],
   "source": [
    "# training parameters\n",
    "BATCH_SIZE = 320\n",
    "N_EPOCHS = 30\n",
    "opt = tf.keras.optimizers.SGD(learning_rate=0.02, momentum=0.5)"
   ]
  },
  {
   "cell_type": "code",
   "execution_count": 9,
   "metadata": {
    "colab": {},
    "colab_type": "code",
    "id": "G05htP5vnSju"
   },
   "outputs": [],
   "source": [
    "def train_model(mixed_precision, optimizer):\n",
    "    \"\"\"\n",
    "    Trains a CNN to classify images on CIFAR10,\n",
    "    and returns the training and classification performance\n",
    "    \n",
    "    Args:\n",
    "        mixed_precision: `True` or `False`\n",
    "        optimizer: An instance of `tf.keras.optimizers.Optimizer`\n",
    "    \"\"\"\n",
    "    model = create_model(num_classes)\n",
    "\n",
    "    if mixed_precision:\n",
    "        import tensorflow\n",
    "        optimizer = tensorflow.compat.v1.train.experimental.enable_mixed_precision_graph_rewrite(optimizer)\n",
    "\n",
    "    model.compile(loss=\"categorical_crossentropy\",\n",
    "                  optimizer=optimizer,\n",
    "                  metrics=[\"accuracy\"])\n",
    "    \n",
    "    train_start = time.time()\n",
    "\n",
    "    train_log = model.fit(x_train, y_train,\n",
    "                          batch_size=BATCH_SIZE,\n",
    "                          epochs=N_EPOCHS,\n",
    "                          use_multiprocessing=True,\n",
    "                          workers=2)\n",
    "\n",
    "    train_end = time.time()\n",
    "\n",
    "    score = model.evaluate(x_test, y_test)\n",
    "    \n",
    "    results = {\"test_loss\": score[0],\n",
    "               \"test_acc\": score[1],\n",
    "               \"train_time\": train_end-train_start,\n",
    "               \"train_log\": train_log}\n",
    "    \n",
    "    return results"
   ]
  },
  {
   "cell_type": "markdown",
   "metadata": {
    "colab_type": "text",
    "id": "B1o7YirynSjw"
   },
   "source": [
    "### Training with FP32"
   ]
  },
  {
   "cell_type": "code",
   "execution_count": 10,
   "metadata": {
    "colab": {
     "base_uri": "https://localhost:8080/",
     "height": 577
    },
    "colab_type": "code",
    "id": "jS4XPcLFnSjw",
    "outputId": "e07748c6-1d27-4a0c-fcc4-36fd6222b26d"
   },
   "outputs": [
    {
     "name": "stderr",
     "output_type": "stream",
     "text": [
      "WARNING: Logging before flag parsing goes to stderr.\n",
      "W0730 05:40:03.089201 140694479611712 deprecation.py:323] From /usr/local/lib/python3.6/dist-packages/tensorflow/python/ops/math_grad.py:1250: add_dispatch_support.<locals>.wrapper (from tensorflow.python.ops.array_ops) is deprecated and will be removed in a future version.\n",
      "Instructions for updating:\n",
      "Use tf.where in 2.0, which has the same broadcast rule as np.where\n"
     ]
    },
    {
     "name": "stdout",
     "output_type": "stream",
     "text": [
      "Epoch 1/30\n",
      "50000/50000 [==============================] - 14s 286us/sample - loss: 1.7208 - accuracy: 0.3748\n",
      "Epoch 2/30\n",
      "50000/50000 [==============================] - 11s 217us/sample - loss: 1.2878 - accuracy: 0.5388\n",
      "Epoch 3/30\n",
      "50000/50000 [==============================] - 11s 218us/sample - loss: 1.0736 - accuracy: 0.6196\n",
      "Epoch 4/30\n",
      "50000/50000 [==============================] - 11s 220us/sample - loss: 0.9173 - accuracy: 0.6767\n",
      "Epoch 5/30\n",
      "50000/50000 [==============================] - 11s 219us/sample - loss: 0.8053 - accuracy: 0.7193\n",
      "Epoch 6/30\n",
      "50000/50000 [==============================] - 11s 222us/sample - loss: 0.7127 - accuracy: 0.7508\n",
      "Epoch 7/30\n",
      "50000/50000 [==============================] - 11s 222us/sample - loss: 0.6407 - accuracy: 0.7770\n",
      "Epoch 8/30\n",
      "50000/50000 [==============================] - 11s 223us/sample - loss: 0.5682 - accuracy: 0.8041\n",
      "Epoch 9/30\n",
      "50000/50000 [==============================] - 11s 223us/sample - loss: 0.5080 - accuracy: 0.8235\n",
      "Epoch 10/30\n",
      "50000/50000 [==============================] - 11s 222us/sample - loss: 0.4526 - accuracy: 0.8446\n",
      "Epoch 11/30\n",
      "50000/50000 [==============================] - 11s 221us/sample - loss: 0.4009 - accuracy: 0.8613\n",
      "Epoch 12/30\n",
      "50000/50000 [==============================] - 11s 219us/sample - loss: 0.3477 - accuracy: 0.8826\n",
      "Epoch 13/30\n",
      "50000/50000 [==============================] - 11s 219us/sample - loss: 0.2972 - accuracy: 0.9004\n",
      "Epoch 14/30\n",
      "50000/50000 [==============================] - 11s 220us/sample - loss: 0.2433 - accuracy: 0.9192\n",
      "Epoch 15/30\n",
      "50000/50000 [==============================] - 11s 220us/sample - loss: 0.1939 - accuracy: 0.9394\n",
      "Epoch 16/30\n",
      "50000/50000 [==============================] - 11s 219us/sample - loss: 0.1539 - accuracy: 0.9524\n",
      "Epoch 17/30\n",
      "50000/50000 [==============================] - 11s 221us/sample - loss: 0.1155 - accuracy: 0.9676\n",
      "Epoch 18/30\n",
      "50000/50000 [==============================] - 11s 220us/sample - loss: 0.0762 - accuracy: 0.9821\n",
      "Epoch 19/30\n",
      "50000/50000 [==============================] - 11s 219us/sample - loss: 0.0472 - accuracy: 0.9915\n",
      "Epoch 20/30\n",
      "50000/50000 [==============================] - 11s 219us/sample - loss: 0.0324 - accuracy: 0.9955\n",
      "Epoch 21/30\n",
      "50000/50000 [==============================] - 11s 220us/sample - loss: 0.0172 - accuracy: 0.9988\n",
      "Epoch 22/30\n",
      "50000/50000 [==============================] - 11s 221us/sample - loss: 0.0107 - accuracy: 0.9997\n",
      "Epoch 23/30\n",
      "50000/50000 [==============================] - 11s 219us/sample - loss: 0.0082 - accuracy: 0.9997\n",
      "Epoch 24/30\n",
      "50000/50000 [==============================] - 11s 219us/sample - loss: 0.0065 - accuracy: 0.9999\n",
      "Epoch 25/30\n",
      "50000/50000 [==============================] - 11s 219us/sample - loss: 0.0048 - accuracy: 1.0000\n",
      "Epoch 26/30\n",
      "50000/50000 [==============================] - 11s 218us/sample - loss: 0.0041 - accuracy: 1.0000\n",
      "Epoch 27/30\n",
      "50000/50000 [==============================] - 11s 218us/sample - loss: 0.0035 - accuracy: 1.0000\n",
      "Epoch 28/30\n",
      "50000/50000 [==============================] - 11s 220us/sample - loss: 0.0031 - accuracy: 1.0000\n",
      "Epoch 29/30\n",
      "50000/50000 [==============================] - 11s 222us/sample - loss: 0.0028 - accuracy: 1.0000\n",
      "Epoch 30/30\n",
      "50000/50000 [==============================] - 11s 220us/sample - loss: 0.0025 - accuracy: 1.0000\n",
      "10000/10000 [==============================] - 2s 154us/sample - loss: 0.7648 - accuracy: 0.8125\n",
      "81.2 % achieved in 334.3 seconds\n"
     ]
    }
   ],
   "source": [
    "fp32_results = train_model(mixed_precision=False, optimizer=opt)\n",
    "\n",
    "test_acc = round(fp32_results[\"test_acc\"]*100, 1)\n",
    "train_time = round(fp32_results[\"train_time\"], 1)\n",
    "\n",
    "print(test_acc, \"% achieved in\", train_time, \"seconds\")"
   ]
  },
  {
   "cell_type": "code",
   "execution_count": 11,
   "metadata": {
    "colab": {},
    "colab_type": "code",
    "id": "QiRUF-v-omKO"
   },
   "outputs": [],
   "source": [
    "# to ensure accuracy of timing benchmark\n",
    "# we give the GPU 10 seconds to cool down\n",
    "\n",
    "tf.keras.backend.clear_session()\n",
    "\n",
    "time.sleep(10)"
   ]
  },
  {
   "cell_type": "markdown",
   "metadata": {
    "colab_type": "text",
    "id": "lnA6jdbVnSjy"
   },
   "source": [
    "### Training with Mixed Precision"
   ]
  },
  {
   "cell_type": "code",
   "execution_count": 12,
   "metadata": {
    "colab": {
     "base_uri": "https://localhost:8080/",
     "height": 431
    },
    "colab_type": "code",
    "id": "KtylpxOmceaC",
    "outputId": "8a0c0a05-d5ad-40bd-b95d-bd77f2c1daf1"
   },
   "outputs": [
    {
     "name": "stdout",
     "output_type": "stream",
     "text": [
      "Epoch 1/30\n",
      "50000/50000 [==============================] - 9s 180us/sample - loss: 1.7275 - accuracy: 0.3766\n",
      "Epoch 2/30\n",
      "50000/50000 [==============================] - 7s 137us/sample - loss: 1.3056 - accuracy: 0.5315\n",
      "Epoch 3/30\n",
      "50000/50000 [==============================] - 7s 137us/sample - loss: 1.1148 - accuracy: 0.6046\n",
      "Epoch 4/30\n",
      "50000/50000 [==============================] - 7s 137us/sample - loss: 0.9719 - accuracy: 0.6574\n",
      "Epoch 5/30\n",
      "50000/50000 [==============================] - 7s 137us/sample - loss: 0.8492 - accuracy: 0.7018\n",
      "Epoch 6/30\n",
      "50000/50000 [==============================] - 7s 137us/sample - loss: 0.7499 - accuracy: 0.7377\n",
      "Epoch 7/30\n",
      "50000/50000 [==============================] - 7s 138us/sample - loss: 0.6745 - accuracy: 0.7641\n",
      "Epoch 8/30\n",
      "50000/50000 [==============================] - 7s 138us/sample - loss: 0.5989 - accuracy: 0.7908\n",
      "Epoch 9/30\n",
      "50000/50000 [==============================] - 7s 138us/sample - loss: 0.5347 - accuracy: 0.8139\n",
      "Epoch 10/30\n",
      "50000/50000 [==============================] - 7s 138us/sample - loss: 0.4768 - accuracy: 0.8363\n",
      "Epoch 11/30\n",
      "50000/50000 [==============================] - 7s 137us/sample - loss: 0.4163 - accuracy: 0.8551\n",
      "Epoch 12/30\n",
      "50000/50000 [==============================] - 7s 137us/sample - loss: 0.3640 - accuracy: 0.8760\n",
      "Epoch 13/30\n",
      "50000/50000 [==============================] - 7s 137us/sample - loss: 0.3026 - accuracy: 0.8989\n",
      "Epoch 14/30\n",
      "50000/50000 [==============================] - 7s 138us/sample - loss: 0.2583 - accuracy: 0.9125\n",
      "Epoch 15/30\n",
      "50000/50000 [==============================] - 7s 140us/sample - loss: 0.2065 - accuracy: 0.9335\n",
      "Epoch 16/30\n",
      "50000/50000 [==============================] - 7s 138us/sample - loss: 0.1588 - accuracy: 0.9512\n",
      "Epoch 17/30\n",
      "50000/50000 [==============================] - 7s 137us/sample - loss: 0.1160 - accuracy: 0.9672\n",
      "Epoch 18/30\n",
      "50000/50000 [==============================] - 7s 137us/sample - loss: 0.0802 - accuracy: 0.9803\n",
      "Epoch 19/30\n",
      "50000/50000 [==============================] - 7s 137us/sample - loss: 0.0556 - accuracy: 0.9884\n",
      "Epoch 20/30\n",
      "50000/50000 [==============================] - 7s 137us/sample - loss: 0.0333 - accuracy: 0.9955\n",
      "Epoch 21/30\n",
      "50000/50000 [==============================] - 7s 137us/sample - loss: 0.0193 - accuracy: 0.9987\n",
      "Epoch 22/30\n",
      "50000/50000 [==============================] - 7s 137us/sample - loss: 0.0115 - accuracy: 0.9996\n",
      "Epoch 23/30\n",
      "50000/50000 [==============================] - 7s 137us/sample - loss: 0.0083 - accuracy: 0.9999\n",
      "Epoch 24/30\n",
      "50000/50000 [==============================] - 7s 137us/sample - loss: 0.0063 - accuracy: 1.0000\n",
      "Epoch 25/30\n",
      "50000/50000 [==============================] - 7s 137us/sample - loss: 0.0048 - accuracy: 1.0000\n",
      "Epoch 26/30\n",
      "50000/50000 [==============================] - 7s 140us/sample - loss: 0.0042 - accuracy: 1.0000\n",
      "Epoch 27/30\n",
      "50000/50000 [==============================] - 7s 138us/sample - loss: 0.0037 - accuracy: 1.0000\n",
      "Epoch 28/30\n",
      "50000/50000 [==============================] - 7s 136us/sample - loss: 0.0031 - accuracy: 1.0000\n",
      "Epoch 29/30\n",
      "50000/50000 [==============================] - 7s 137us/sample - loss: 0.0033 - accuracy: 0.9999\n",
      "Epoch 30/30\n",
      "50000/50000 [==============================] - 7s 137us/sample - loss: 0.0025 - accuracy: 1.0000\n",
      "10000/10000 [==============================] - 1s 131us/sample - loss: 0.7798 - accuracy: 0.8141\n",
      "81.4 % achieved in 209.6 seconds\n"
     ]
    }
   ],
   "source": [
    "mp_results = train_model(mixed_precision=True, optimizer=opt)\n",
    "\n",
    "test_acc = round(mp_results[\"test_acc\"]*100, 1)\n",
    "train_time = round(mp_results[\"train_time\"], 1)\n",
    "\n",
    "print(test_acc, \"% achieved in\", train_time, \"seconds\")"
   ]
  },
  {
   "cell_type": "markdown",
   "metadata": {},
   "source": [
    "As we can see, FP32 and mixed precision training yield comparable test accuracy."
   ]
  },
  {
   "cell_type": "markdown",
   "metadata": {
    "colab_type": "text",
    "id": "1BR_XJP9nSj0"
   },
   "source": [
    "### Evaluate the Model Performance"
   ]
  },
  {
   "cell_type": "code",
   "execution_count": 15,
   "metadata": {
    "colab": {
     "base_uri": "https://localhost:8080/",
     "height": 295
    },
    "colab_type": "code",
    "id": "mMOeXVmbdilM",
    "outputId": "bcd95df7-5976-4d99-e59d-8b3fed24b74e"
   },
   "outputs": [
    {
     "data": {
      "image/png": "[encoded data removed]",
      "text/plain": [
       "<Figure size 432x288 with 1 Axes>"
      ]
     },
     "metadata": {
      "needs_background": "light"
     },
     "output_type": "display_data"
    }
   ],
   "source": [
    "import matplotlib.pyplot as plt\n",
    "%matplotlib inline\n",
    "\n",
    "plt.plot(fp32_results[\"train_log\"].history[\"loss\"], label=\"FP32\")\n",
    "plt.plot(mp_results[\"train_log\"].history[\"loss\"], label=\"Mixed Precision\")\n",
    "plt.title(\"Performance Comparison\")\n",
    "plt.ylabel(\"Training Loss\")\n",
    "plt.xlabel(\"Epoch\")\n",
    "plt.legend()\n",
    "plt.show()"
   ]
  },
  {
   "cell_type": "code",
   "execution_count": 16,
   "metadata": {
    "colab": {
     "base_uri": "https://localhost:8080/",
     "height": 35
    },
    "colab_type": "code",
    "id": "kETVyzl4tJhv",
    "outputId": "f3032545-06da-4f41-b673-e4f36f767c4d"
   },
   "outputs": [
    {
     "name": "stdout",
     "output_type": "stream",
     "text": [
      "Total speed-up: 159.5 %\n"
     ]
    }
   ],
   "source": [
    "speed_up = round(100 * fp32_results[\"train_time\"]/mp_results[\"train_time\"], 1)\n",
    "\n",
    "print(\"Total speed-up:\", speed_up, \"%\")"
   ]
  },
  {
   "cell_type": "markdown",
   "metadata": {
    "colab_type": "text",
    "id": "78HBT9cQXJko"
   },
   "source": [
    "## Conclusions\n",
    "\n",
    "* Mixed Precision training provides a significant speed-up over FP32 (single-precision) training without affecting final accuracy. \n",
    "* Switch to using mixed precision by simply wrapping a `tf.keras.optimizers` Optimizer in `tf.train.experimental.enable_mixed_precision_graph_rewrite()`\n"
   ]
  },
  {
   "cell_type": "code",
   "execution_count": null,
   "metadata": {},
   "outputs": [],
   "source": []
  }
 ],
 "metadata": {
  "accelerator": "GPU",
  "colab": {
   "collapsed_sections": [],
   "name": "Copy of cifar10_mixed_precision.ipynb",
   "provenance": [],
   "version": "0.3.2"
  },
  "jupytext": {
   "formats": "ipynb,py"
  },
  "kernelspec": {
   "display_name": "Python 3",
   "language": "python",
   "name": "python3"
  },
  "language_info": {
   "codemirror_mode": {
    "name": "ipython",
    "version": 3
   },
   "file_extension": ".py",
   "mimetype": "text/x-python",
   "name": "python",
   "nbconvert_exporter": "python",
   "pygments_lexer": "ipython3",
   "version": "3.6.8"
  }
 },
 "nbformat": 4,
 "nbformat_minor": 1
}
